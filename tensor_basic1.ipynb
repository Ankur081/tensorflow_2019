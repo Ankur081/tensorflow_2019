{
 "cells": [
  {
   "cell_type": "code",
   "execution_count": 1,
   "metadata": {},
   "outputs": [],
   "source": [
    "import tensorflow as tf"
   ]
  },
  {
   "cell_type": "code",
   "execution_count": 7,
   "metadata": {},
   "outputs": [],
   "source": [
    "# making tensor \n",
    "t1=tf.constant([2,4,5,6,77])\n",
    "t2=tf.constant([3,6,6,2,99])\n",
    "data=tf.fill((5,5),10)\n",
    "data1=tf.ones((6,6))\n",
    "data2=tf.zeros((7,7))\n",
    "data3=tf.random_normal((6,6))\n",
    "data4=tf.random_uniform((5,5),minval=2,maxval=5)"
   ]
  },
  {
   "cell_type": "code",
   "execution_count": 3,
   "metadata": {},
   "outputs": [],
   "source": [
    "mylist=[t1,t2,data,data1,data2,data3,data4]"
   ]
  },
  {
   "cell_type": "code",
   "execution_count": 5,
   "metadata": {},
   "outputs": [],
   "source": [
    "cpu_use=tf.Session()   # here we created cpu oriented sessiion\n",
    "#sess=tf.InteractiveSession()  #  this spcl for jupyter notebook"
   ]
  },
  {
   "cell_type": "code",
   "execution_count": 6,
   "metadata": {},
   "outputs": [
    {
     "name": "stdout",
     "output_type": "stream",
     "text": [
      "[ 2  4  5  6 77]\n",
      "\n",
      "\n",
      "[ 3  6  6  2 99]\n",
      "\n",
      "\n",
      "[[10 10 10 10 10]\n",
      " [10 10 10 10 10]\n",
      " [10 10 10 10 10]\n",
      " [10 10 10 10 10]\n",
      " [10 10 10 10 10]]\n",
      "\n",
      "\n",
      "[[1. 1. 1. 1. 1. 1.]\n",
      " [1. 1. 1. 1. 1. 1.]\n",
      " [1. 1. 1. 1. 1. 1.]\n",
      " [1. 1. 1. 1. 1. 1.]\n",
      " [1. 1. 1. 1. 1. 1.]\n",
      " [1. 1. 1. 1. 1. 1.]]\n",
      "\n",
      "\n",
      "[[0. 0. 0. 0. 0. 0. 0.]\n",
      " [0. 0. 0. 0. 0. 0. 0.]\n",
      " [0. 0. 0. 0. 0. 0. 0.]\n",
      " [0. 0. 0. 0. 0. 0. 0.]\n",
      " [0. 0. 0. 0. 0. 0. 0.]\n",
      " [0. 0. 0. 0. 0. 0. 0.]\n",
      " [0. 0. 0. 0. 0. 0. 0.]]\n",
      "\n",
      "\n",
      "[[-0.32423407  1.1160191  -0.02432662  0.7846484  -1.8114625  -1.7287269 ]\n",
      " [ 0.1379583   0.16855942  0.01923804  2.1526942   2.7455652   0.29423717]\n",
      " [ 0.6735686  -0.4570905  -0.6671896   1.3028225   0.60196155  0.03057816]\n",
      " [ 1.3868877   0.1875231   0.11962975 -1.3162109   0.94222885  0.47957358]\n",
      " [ 0.30188233 -0.09271103 -0.25407097  0.90055716 -1.7859086   0.6216887 ]\n",
      " [ 1.2497784   0.65804017 -0.65945536  1.1760803   0.02294818  1.7824156 ]]\n",
      "\n",
      "\n",
      "[[4.614917  2.3413153 2.1756063 2.8782349 3.2785816]\n",
      " [3.9168472 2.1937537 2.2750983 2.9603457 4.58607  ]\n",
      " [3.0279202 4.8199234 2.8043838 4.820913  3.1258245]\n",
      " [3.2972145 2.6904187 2.2244139 4.360401  2.0468986]\n",
      " [3.526144  4.450658  2.4168875 2.4299998 2.1131554]]\n",
      "\n",
      "\n"
     ]
    }
   ],
   "source": [
    "for  i  in  mylist:\n",
    "    #print(sess.run(i))\n",
    "    print(i.eval())\n",
    "    print('\\n')\n",
    "\n",
    "cpu_use.close()"
   ]
  },
  {
   "cell_type": "code",
   "execution_count": 8,
   "metadata": {},
   "outputs": [
    {
     "name": "stdout",
     "output_type": "stream",
     "text": [
      "Tensor(\"Const_2:0\", shape=(5,), dtype=int32)\n"
     ]
    }
   ],
   "source": [
    "print(t1)"
   ]
  },
  {
   "cell_type": "code",
   "execution_count": 9,
   "metadata": {},
   "outputs": [
    {
     "name": "stdout",
     "output_type": "stream",
     "text": [
      "<class 'tensorflow.python.framework.ops.Tensor'>\n"
     ]
    }
   ],
   "source": [
    "print(type(t1))"
   ]
  },
  {
   "cell_type": "code",
   "execution_count": 10,
   "metadata": {},
   "outputs": [
    {
     "name": "stdout",
     "output_type": "stream",
     "text": [
      "Tensor(\"Const_3:0\", shape=(5,), dtype=int32)\n",
      "<class 'tensorflow.python.framework.ops.Tensor'>\n"
     ]
    }
   ],
   "source": [
    "print(t2)\n",
    "print(type(t2))"
   ]
  },
  {
   "cell_type": "code",
   "execution_count": null,
   "metadata": {},
   "outputs": [],
   "source": []
  }
 ],
 "metadata": {
  "kernelspec": {
   "display_name": "Python 3",
   "language": "python",
   "name": "python3"
  },
  "language_info": {
   "codemirror_mode": {
    "name": "ipython",
    "version": 3
   },
   "file_extension": ".py",
   "mimetype": "text/x-python",
   "name": "python",
   "nbconvert_exporter": "python",
   "pygments_lexer": "ipython3",
   "version": "3.6.7"
  }
 },
 "nbformat": 4,
 "nbformat_minor": 2
}
